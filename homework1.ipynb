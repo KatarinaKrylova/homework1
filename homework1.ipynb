{
 "cells": [
  {
   "cell_type": "code",
   "execution_count": 1,
   "metadata": {},
   "outputs": [
    {
     "name": "stdout",
     "output_type": "stream",
     "text": [
      "Введите число: 50\n",
      "52\n"
     ]
    }
   ],
   "source": [
    "#Задание 1\n",
    "\n",
    "entered_number = int(input('Введите число: '))\n",
    "print(entered_number + 2)\n"
   ]
  },
  {
   "cell_type": "code",
   "execution_count": 2,
   "metadata": {},
   "outputs": [
    {
     "name": "stdout",
     "output_type": "stream",
     "text": [
      "Введите число от 0 до 10: 30\n",
      "Упс! Число неверно.\n",
      "Введите число от 0 до 10: 69\n",
      "Упс! Число неверно.\n",
      "Введите число от 0 до 10: 5\n",
      "25\n"
     ]
    }
   ],
   "source": [
    "#Задание 2\n",
    "number = int(input('Введите число от 0 до 10: '))\n",
    "\n",
    "while number > 10 or number < 0: \n",
    "    print('Упс! Число неверно.')\n",
    "    number = int(input('Введите число от 0 до 10: '))\n",
    "if 0 < number < 10:\n",
    "    print(number ** 2)"
   ]
  },
  {
   "cell_type": "code",
   "execution_count": 4,
   "metadata": {},
   "outputs": [
    {
     "name": "stdout",
     "output_type": "stream",
     "text": [
      "Напишите своё имя и фамилию: Екатерина Крылова\n",
      "Какой у Вас вес?: 49\n",
      "Сколько Вам лет?: 19\n",
      "Хорошее состояние: False\n",
      "Следует заняться своим здоровьем: False\n",
      "Требуется врачебный осмотр: False\n",
      "Требуется помощь специалиста: False\n"
     ]
    }
   ],
   "source": [
    "#Задание 3\n",
    "#Медицинская анкета\n",
    "name_surname = input('Напишите своё имя и фамилию: ')\n",
    "weight = int(input('Какой у Вас вес?: '))\n",
    "age = int(input('Сколько Вам лет?: '))\n",
    " \n",
    "print('Хорошее состояние:', 12 < age < 30 and 50 < weight < 120)\n",
    "print('Следует заняться своим здоровьем:', age > 30 and weight < 50 and weight > 100)     \n",
    "print('Требуется врачебный осмотр:', age > 40 and weight < 50 and weight > 120)   \n",
    "print('Требуется помощь специалиста:', age < 12 and weight > 50) "
   ]
  }
 ],
 "metadata": {
  "kernelspec": {
   "display_name": "Python 3",
   "language": "python",
   "name": "python3"
  },
  "language_info": {
   "codemirror_mode": {
    "name": "ipython",
    "version": 3
   },
   "file_extension": ".py",
   "mimetype": "text/x-python",
   "name": "python",
   "nbconvert_exporter": "python",
   "pygments_lexer": "ipython3",
   "version": "3.6.7"
  }
 },
 "nbformat": 4,
 "nbformat_minor": 2
}
